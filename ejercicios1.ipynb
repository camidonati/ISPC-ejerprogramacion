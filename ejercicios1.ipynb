{
  "nbformat": 4,
  "nbformat_minor": 0,
  "metadata": {
    "colab": {
      "provenance": [],
      "authorship_tag": "ABX9TyOxN13DCl1BKYc1Yt9bZXQI",
      "include_colab_link": true
    },
    "kernelspec": {
      "name": "python3",
      "display_name": "Python 3"
    },
    "language_info": {
      "name": "python"
    }
  },
  "cells": [
    {
      "cell_type": "markdown",
      "metadata": {
        "id": "view-in-github",
        "colab_type": "text"
      },
      "source": [
        "<a href=\"https://colab.research.google.com/github/camidonati/ISPC-ejerprogramacion/blob/main/ejercicios1.ipynb\" target=\"_parent\"><img src=\"https://colab.research.google.com/assets/colab-badge.svg\" alt=\"Open In Colab\"/></a>"
      ]
    },
    {
      "cell_type": "markdown",
      "source": [],
      "metadata": {
        "id": "S-1Ihjy80hPU"
      }
    },
    {
      "cell_type": "code",
      "source": [
        "#estructura condicional simple\n",
        "#ejercicio 1\n",
        "letra1=input('ingrese la primer letra: ')\n",
        "letra2=input('ingrese la segunda letra: ')\n",
        "if letra1==letra2:\n",
        "  print('son iguales')\n",
        "else:\n",
        "  print('son diferentes')\n",
        "  "
      ],
      "metadata": {
        "colab": {
          "base_uri": "https://localhost:8080/"
        },
        "id": "XqQhyiGL0i9i",
        "outputId": "d86164e2-ce18-4456-896e-011b5a6a8732"
      },
      "execution_count": null,
      "outputs": [
        {
          "output_type": "stream",
          "name": "stdout",
          "text": [
            "ingrese la primer letra: a\n",
            "ingrese la segunda letra: d\n",
            "son diferentes\n"
          ]
        }
      ]
    },
    {
      "cell_type": "code",
      "source": [
        "#ejercicio 2\n",
        "palabra1=input('ingrese la primer palabra: ')\n",
        "palabra2=input('ingrese la segunda palabra: ')\n",
        "if palabra1==palabra2:\n",
        "  print('la palabras coinciden')\n",
        "else:\n",
        "  print('las palabras difieren')\n"
      ],
      "metadata": {
        "colab": {
          "base_uri": "https://localhost:8080/"
        },
        "id": "QaztwYqA2OaC",
        "outputId": "5e7c8ebd-64cf-4efa-a4a5-f6e9b20224fe"
      },
      "execution_count": null,
      "outputs": [
        {
          "output_type": "stream",
          "name": "stdout",
          "text": [
            "ingrese la primer palabra: auto\n",
            "ingrese la segunda palabra: car\n",
            "las palabras difieren\n"
          ]
        }
      ]
    },
    {
      "cell_type": "code",
      "source": [
        "#ejercicio3\n",
        "genero=input('ingrese \"f\" si es sexo femenino o \"m\" si es sexo masculino: ')\n",
        "if genero==\"f\":\n",
        " print('vota en mesa femenina')\n",
        "elif genero==\"m\":\n",
        " print('vota en mesa masculina')\n",
        "else:\n",
        " print('elija \"f\" o \"m\" segun corresponda')\n"
      ],
      "metadata": {
        "colab": {
          "base_uri": "https://localhost:8080/"
        },
        "id": "c4lOzPCy3RY8",
        "outputId": "4265f9b0-3400-4eee-f42a-cad98a73ca44"
      },
      "execution_count": null,
      "outputs": [
        {
          "output_type": "stream",
          "name": "stdout",
          "text": [
            "ingrese \"f\" si es sexo femenino o \"m\" si es sexo masculino: f\n",
            "vota en mesa femenina\n"
          ]
        }
      ]
    },
    {
      "cell_type": "code",
      "source": [
        "#ejercicio4\n",
        "numero1=input('ingrese el primer numero: ')\n",
        "numero2=input('ingrese el segundo numero: ')\n",
        "if numero1>numero2:\n",
        "  print('el primer numero es mayor')\n",
        "elif numero1<numero2:\n",
        "  print('el segundo numero es mayor')\n",
        "else:\n",
        "  print('los numeros son iguales')"
      ],
      "metadata": {
        "colab": {
          "base_uri": "https://localhost:8080/"
        },
        "id": "xZwL4Sq55ioW",
        "outputId": "62bfd0e9-2c5b-4c30-bfe9-1121057ebcfd"
      },
      "execution_count": null,
      "outputs": [
        {
          "output_type": "stream",
          "name": "stdout",
          "text": [
            "ingrese el primer numero: 5\n",
            "ingrese el segundo numero: 6\n",
            "el segundo numero es mayor\n"
          ]
        }
      ]
    },
    {
      "cell_type": "code",
      "source": [
        "#ejercicio5\n",
        "tipo_de_cambio=input('ingrese \"p\" si desea convertir de pesos a dolares o \"usd\" si desea de dolares a pesos: ')\n",
        "if tipo_de_cambio==\"p\":\n",
        "  pesos_cantidad=float(input('ingrese la cantidad de pesos: '))\n",
        "  valor_usd=float(input('ingrese el valor de venta de un dolar: '))\n",
        "  conversion_usd= (pesos_cantidad/valor_usd)\n",
        "  print('valor en dolares: ', +conversion_usd)\n",
        "elif tipo_de_cambio==\"usd\":\n",
        "  usd_cantidad=float(input('ingrese la cantidad de dolares: '))\n",
        "  valor_peso=float(input('ingrese el valor de un peso en dolares: '))\n",
        "  conversion_peso=(usd_cantidad*valor_peso)\n",
        "  print('valor en pesos: ', +conversion_peso)\n",
        "else:\n",
        "  print('ingrese \"p\" o \"usd\" segun corresponda')"
      ],
      "metadata": {
        "colab": {
          "base_uri": "https://localhost:8080/"
        },
        "id": "4n5WxE4M9VdV",
        "outputId": "d2cdd10c-b305-4a6e-e936-a0ff6109f856"
      },
      "execution_count": null,
      "outputs": [
        {
          "output_type": "stream",
          "name": "stdout",
          "text": [
            "ingrese \"p\" si desea convertir de pesos a dolares o \"usd\" si desea de dolares a pesos: p\n",
            "ingrese la cantidad de pesos: 500\n",
            "ingrese el valor de venta de un dolar: 500\n",
            "valor en dolares:  1.0\n"
          ]
        }
      ]
    },
    {
      "cell_type": "code",
      "source": [
        "#ejercicio6\n",
        "edad=int(input('ingrese su edad: '))\n",
        "if edad<=16:\n",
        " print('no vota')\n",
        "else:\n",
        " print('puede votar')"
      ],
      "metadata": {
        "colab": {
          "base_uri": "https://localhost:8080/"
        },
        "id": "ejbvJiyLDdA8",
        "outputId": "3bdce08e-9aed-4a9a-ae0c-a56e8c916532"
      },
      "execution_count": null,
      "outputs": [
        {
          "output_type": "stream",
          "name": "stdout",
          "text": [
            "ingrese su edad: 16\n",
            "no vota\n"
          ]
        }
      ]
    },
    {
      "cell_type": "code",
      "source": [
        "#ejerc estruc condic compuesto\n",
        "#ejercicio1\n",
        "\n",
        "lado1=float(input('ingrese longitud del primer lado del triangulo: '))\n",
        "lado2=float(input('ingrese longitud del segundo lado del triangulo: '))\n",
        "lado3=float(input('ingrese longitud del tercer lado del triangulo: '))\n",
        "if lado1==lado2==lado3:\n",
        "  print('el triangulo es: equilátero')\n",
        "elif lado1==2 or lado2==lado3 or lado1==lado3:\n",
        "  print('el triangulo es: isósceles')\n",
        "else:\n",
        "  print('el triangulo es: escaleno')"
      ],
      "metadata": {
        "colab": {
          "base_uri": "https://localhost:8080/"
        },
        "id": "0zIDloQPE2xt",
        "outputId": "4a49734e-b3f4-450f-87ae-5680d6fb02c6"
      },
      "execution_count": null,
      "outputs": [
        {
          "output_type": "stream",
          "name": "stdout",
          "text": [
            "ingrese longitud del primer lado del triangulo: 56\n",
            "ingrese longitud del segundo lado del triangulo: 56\n",
            "ingrese longitud del tercer lado del triangulo: 56\n",
            "el triangulo es: equilátero\n"
          ]
        }
      ]
    },
    {
      "cell_type": "code",
      "source": [
        "#ejercicio2\n",
        "importe_a_pagar=float(input('ingrese el monto a pagar: '))\n",
        "forma_de_pago=input('ingrese: contado, tarjeta o debito ')\n",
        "if forma_de_pago=='contado':\n",
        "  descuento1=0.10*importe_a_pagar\n",
        "  importe_total=importe_a_pagar-descuento1\n",
        "  print('importe: ', +importe_a_pagar)\n",
        "  print('descuento: ', +descuento1)\n",
        "  print('importe total: ', + importe_total)\n",
        "elif forma_de_pago==tarjeta:\n",
        "  interes1=0.10*importe_a_pagar\n",
        "  importe_total=interes1+importe_a_pagar\n",
        "  print('importe: ' +importe_a_pagar)\n",
        "  print('interes: ' +interes1)\n",
        "  print('importe total: ' +importe_total)\n",
        "elif forma_de_pago==debito:\n",
        "  descuento2=0.05*importe_a_pagar\n",
        "  importe_total=importe_a_pagar-descuento2\n",
        "  print('importe: ', +importe_a_pagar)\n",
        "  print('descuento: ',  +descuento2)\n",
        "  print('importe total', +importe_total)\n",
        "else:\n",
        "  print('ingrese la opcion correcta')"
      ],
      "metadata": {
        "colab": {
          "base_uri": "https://localhost:8080/"
        },
        "id": "eBtzOyluHdVx",
        "outputId": "a7955b41-fced-491c-86d3-f3413398cf06"
      },
      "execution_count": null,
      "outputs": [
        {
          "output_type": "stream",
          "name": "stdout",
          "text": [
            "ingrese el monto a pagar: 45\n",
            "ingrese: contado, tarjeta o debito contado\n",
            "importe:  45.0\n",
            "descuento:  4.5\n",
            "importe total:  40.5\n"
          ]
        }
      ]
    },
    {
      "cell_type": "code",
      "source": [
        "#ejercicio3\n",
        "numero1=int(input('ingrese el primer numero: '))\n",
        "numero2=int(input('ingrese el segundo numero: '))\n",
        "numero3=int(input('ingrese el tercer numero: '))\n",
        "\n",
        "mayor=max(numero1, numero2, numero3)\n",
        "print('el numero mayor es: ', mayor)\n",
        "if mayor%2==0:\n",
        "  print('el numero es par')\n",
        "else:\n",
        "  print('el numero es impar')\n",
        "\n"
      ],
      "metadata": {
        "colab": {
          "base_uri": "https://localhost:8080/"
        },
        "id": "jceWzR53Mxzi",
        "outputId": "1a0c7a28-9811-43c9-a109-c7278f53ae5a"
      },
      "execution_count": null,
      "outputs": [
        {
          "output_type": "stream",
          "name": "stdout",
          "text": [
            "ingrese el primer numero: 4\n",
            "ingrese el segundo numero: 2\n",
            "ingrese el tercer numero: 7\n",
            "el numero mayor es:  7\n",
            "el numero es impar\n"
          ]
        }
      ]
    },
    {
      "cell_type": "code",
      "source": [
        "#ejercicio4\n",
        "numero=int(input('ingrese un numero del 1 al 7: '))\n",
        "if numero==1:\n",
        " print('lunes')\n",
        "elif numero==2:\n",
        " print('martes')\n",
        "elif numero==3:\n",
        " print('miercoles')\n",
        "elif numero==4:\n",
        " print('jueves')\n",
        "elif numero==5:\n",
        " print('viernes')\n",
        "elif numero==6:\n",
        " print('sabado')\n",
        "elif numero==7:\n",
        " print('domingo')\n",
        "else:\n",
        "  print('elija un numero valido')"
      ],
      "metadata": {
        "colab": {
          "base_uri": "https://localhost:8080/"
        },
        "id": "h8wI7HXIPnjf",
        "outputId": "9e532b43-0e58-498e-d2d5-34bef1676aa8"
      },
      "execution_count": null,
      "outputs": [
        {
          "output_type": "stream",
          "name": "stdout",
          "text": [
            "ingrese un numero del 1 al 7: 5\n",
            "viernes\n"
          ]
        }
      ]
    },
    {
      "cell_type": "code",
      "source": [
        "#ejercicio5\n",
        "numero = int(input(\"ingrese un número del 1 al 12: \"))\n",
        "\n",
        "if numero == 1:\n",
        "    print('enero')\n",
        "elif numero == 2:\n",
        "    print('Febrero')\n",
        "elif numero == 3:\n",
        "    print('Marzo')\n",
        "elif numero == 4:\n",
        "    print('Abril')\n",
        "elif numero == 5:\n",
        "    print('Mayo')\n",
        "elif numero == 6:\n",
        "    print('Junio')\n",
        "elif numero == 7:\n",
        "    print('julio')\n",
        "elif numero == 8:\n",
        "    print('Agosto')\n",
        "elif numero == 9:\n",
        "    print('Septiembre')\n",
        "elif numero == 10:\n",
        "    print('Octubre')\n",
        "elif numero == 11:\n",
        "    print('Noviembre')\n",
        "elif numero == 12:\n",
        "    print('Diciembre')\n",
        "else:\n",
        "    print('ingrese un número del 1 al 12')"
      ],
      "metadata": {
        "colab": {
          "base_uri": "https://localhost:8080/"
        },
        "id": "JjdmrdzMRCth",
        "outputId": "cb28c8f2-7b02-4a4b-9988-b6817c071d54"
      },
      "execution_count": null,
      "outputs": [
        {
          "output_type": "stream",
          "name": "stdout",
          "text": [
            "ingrese un número del 1 al 12: 5\n",
            "Mayo\n"
          ]
        }
      ]
    }
  ]
}