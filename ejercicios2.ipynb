{
  "nbformat": 4,
  "nbformat_minor": 0,
  "metadata": {
    "colab": {
      "provenance": [],
      "authorship_tag": "ABX9TyMDp3SJ3Y2897T6tA5nme/d",
      "include_colab_link": true
    },
    "kernelspec": {
      "name": "python3",
      "display_name": "Python 3"
    },
    "language_info": {
      "name": "python"
    }
  },
  "cells": [
    {
      "cell_type": "markdown",
      "metadata": {
        "id": "view-in-github",
        "colab_type": "text"
      },
      "source": [
        "<a href=\"https://colab.research.google.com/github/camidonati/ISPC-ejerprogramacion/blob/main/ejercicios2.ipynb\" target=\"_parent\"><img src=\"https://colab.research.google.com/assets/colab-badge.svg\" alt=\"Open In Colab\"/></a>"
      ]
    },
    {
      "cell_type": "code",
      "execution_count": 1,
      "metadata": {
        "id": "-oM--XzaitQ5"
      },
      "outputs": [],
      "source": [
        "#ejercicios estructuras repetitivas\n"
      ]
    },
    {
      "cell_type": "code",
      "source": [
        "#ejercicio1\n",
        "contador_par = 0\n",
        "contador_impar = 0\n",
        "suma_pares = 0\n",
        "for i in range(4):\n",
        "  numero=int(input('ingrese un numero: '))\n",
        "  if numero %2==0:\n",
        "    contador_par +=1\n",
        "    suma_pares += numero\n",
        "  else:\n",
        "    contador_impar +=1\n",
        "    print('cantidad de numeros pares: ', contador_par)\n",
        "    print('cantidad de numeros impares: ', contador_impar)\n",
        "    print('sumatoria de numeros pares: ', suma_pares)\n",
        "\n"
      ],
      "metadata": {
        "colab": {
          "base_uri": "https://localhost:8080/",
          "height": 380
        },
        "id": "lpXrrMiEkVDi",
        "outputId": "d3b080f5-790e-4ae1-e55b-d008599cad87"
      },
      "execution_count": 5,
      "outputs": [
        {
          "output_type": "error",
          "ename": "KeyboardInterrupt",
          "evalue": "ignored",
          "traceback": [
            "\u001b[0;31m---------------------------------------------------------------------------\u001b[0m",
            "\u001b[0;31mKeyboardInterrupt\u001b[0m                         Traceback (most recent call last)",
            "\u001b[0;32m<ipython-input-5-620a09e109b1>\u001b[0m in \u001b[0;36m<cell line: 5>\u001b[0;34m()\u001b[0m\n\u001b[1;32m      4\u001b[0m \u001b[0msuma_pares\u001b[0m \u001b[0;34m=\u001b[0m \u001b[0;36m0\u001b[0m\u001b[0;34m\u001b[0m\u001b[0;34m\u001b[0m\u001b[0m\n\u001b[1;32m      5\u001b[0m \u001b[0;32mfor\u001b[0m \u001b[0mi\u001b[0m \u001b[0;32min\u001b[0m \u001b[0mrange\u001b[0m\u001b[0;34m(\u001b[0m\u001b[0;36m4\u001b[0m\u001b[0;34m)\u001b[0m\u001b[0;34m:\u001b[0m\u001b[0;34m\u001b[0m\u001b[0;34m\u001b[0m\u001b[0m\n\u001b[0;32m----> 6\u001b[0;31m   \u001b[0mnumero\u001b[0m\u001b[0;34m=\u001b[0m\u001b[0mint\u001b[0m\u001b[0;34m(\u001b[0m\u001b[0minput\u001b[0m\u001b[0;34m(\u001b[0m\u001b[0;34m'ingrese un numero: '\u001b[0m\u001b[0;34m)\u001b[0m\u001b[0;34m)\u001b[0m\u001b[0;34m\u001b[0m\u001b[0;34m\u001b[0m\u001b[0m\n\u001b[0m\u001b[1;32m      7\u001b[0m   \u001b[0;32mif\u001b[0m \u001b[0mnumero\u001b[0m \u001b[0;34m%\u001b[0m\u001b[0;36m2\u001b[0m\u001b[0;34m==\u001b[0m\u001b[0;36m0\u001b[0m\u001b[0;34m:\u001b[0m\u001b[0;34m\u001b[0m\u001b[0;34m\u001b[0m\u001b[0m\n\u001b[1;32m      8\u001b[0m     \u001b[0mcontador_par\u001b[0m \u001b[0;34m+=\u001b[0m\u001b[0;36m1\u001b[0m\u001b[0;34m\u001b[0m\u001b[0;34m\u001b[0m\u001b[0m\n",
            "\u001b[0;32m/usr/local/lib/python3.10/dist-packages/ipykernel/kernelbase.py\u001b[0m in \u001b[0;36mraw_input\u001b[0;34m(self, prompt)\u001b[0m\n\u001b[1;32m    849\u001b[0m                 \u001b[0;34m\"raw_input was called, but this frontend does not support input requests.\"\u001b[0m\u001b[0;34m\u001b[0m\u001b[0;34m\u001b[0m\u001b[0m\n\u001b[1;32m    850\u001b[0m             )\n\u001b[0;32m--> 851\u001b[0;31m         return self._input_request(str(prompt),\n\u001b[0m\u001b[1;32m    852\u001b[0m             \u001b[0mself\u001b[0m\u001b[0;34m.\u001b[0m\u001b[0m_parent_ident\u001b[0m\u001b[0;34m,\u001b[0m\u001b[0;34m\u001b[0m\u001b[0;34m\u001b[0m\u001b[0m\n\u001b[1;32m    853\u001b[0m             \u001b[0mself\u001b[0m\u001b[0;34m.\u001b[0m\u001b[0m_parent_header\u001b[0m\u001b[0;34m,\u001b[0m\u001b[0;34m\u001b[0m\u001b[0;34m\u001b[0m\u001b[0m\n",
            "\u001b[0;32m/usr/local/lib/python3.10/dist-packages/ipykernel/kernelbase.py\u001b[0m in \u001b[0;36m_input_request\u001b[0;34m(self, prompt, ident, parent, password)\u001b[0m\n\u001b[1;32m    893\u001b[0m             \u001b[0;32mexcept\u001b[0m \u001b[0mKeyboardInterrupt\u001b[0m\u001b[0;34m:\u001b[0m\u001b[0;34m\u001b[0m\u001b[0;34m\u001b[0m\u001b[0m\n\u001b[1;32m    894\u001b[0m                 \u001b[0;31m# re-raise KeyboardInterrupt, to truncate traceback\u001b[0m\u001b[0;34m\u001b[0m\u001b[0;34m\u001b[0m\u001b[0m\n\u001b[0;32m--> 895\u001b[0;31m                 \u001b[0;32mraise\u001b[0m \u001b[0mKeyboardInterrupt\u001b[0m\u001b[0;34m(\u001b[0m\u001b[0;34m\"Interrupted by user\"\u001b[0m\u001b[0;34m)\u001b[0m \u001b[0;32mfrom\u001b[0m \u001b[0;32mNone\u001b[0m\u001b[0;34m\u001b[0m\u001b[0;34m\u001b[0m\u001b[0m\n\u001b[0m\u001b[1;32m    896\u001b[0m             \u001b[0;32mexcept\u001b[0m \u001b[0mException\u001b[0m \u001b[0;32mas\u001b[0m \u001b[0me\u001b[0m\u001b[0;34m:\u001b[0m\u001b[0;34m\u001b[0m\u001b[0;34m\u001b[0m\u001b[0m\n\u001b[1;32m    897\u001b[0m                 \u001b[0mself\u001b[0m\u001b[0;34m.\u001b[0m\u001b[0mlog\u001b[0m\u001b[0;34m.\u001b[0m\u001b[0mwarning\u001b[0m\u001b[0;34m(\u001b[0m\u001b[0;34m\"Invalid Message:\"\u001b[0m\u001b[0;34m,\u001b[0m \u001b[0mexc_info\u001b[0m\u001b[0;34m=\u001b[0m\u001b[0;32mTrue\u001b[0m\u001b[0;34m)\u001b[0m\u001b[0;34m\u001b[0m\u001b[0;34m\u001b[0m\u001b[0m\n",
            "\u001b[0;31mKeyboardInterrupt\u001b[0m: Interrupted by user"
          ]
        }
      ]
    },
    {
      "cell_type": "code",
      "source": [
        "#ejercicio2\n",
        "cant_mayores100 = 0\n",
        "cant_menores100 = 0\n",
        "numeromax = 0\n",
        "numeromin = 0\n",
        "\n",
        "for i in range(10):\n",
        "  numero.append=int(input('ingrese un numero: '))\n",
        "if numero>100:\n",
        "  cant_mayores100 += 1\n",
        "elif numero<100:\n",
        "  cant_menores100 += 1\n",
        " \n",
        " if numero > numeromax:\n",
        "  numeromax = numero\n",
        " \n",
        " if numero < numeromin:\n",
        "  numeromin = numero\n",
        "  print('cantidad de numeros mayores a 100: ', cant_mayores100)\n",
        "  print('cantidad de numeros menores a 100: ', cant_menores100)\n",
        "  print('numero maximo: ', numeromax)\n",
        "  print('numero minimo: ', numeromin) "
      ],
      "metadata": {
        "colab": {
          "base_uri": "https://localhost:8080/",
          "height": 130
        },
        "id": "dCGYx7P6u9Oo",
        "outputId": "0d6a35ba-fd10-4dc5-96ba-6ff3a2f54027"
      },
      "execution_count": 9,
      "outputs": [
        {
          "output_type": "error",
          "ename": "IndentationError",
          "evalue": "ignored",
          "traceback": [
            "\u001b[0;36m  File \u001b[0;32m\"<tokenize>\"\u001b[0;36m, line \u001b[0;32m14\u001b[0m\n\u001b[0;31m    if numero > numeromax:\u001b[0m\n\u001b[0m    ^\u001b[0m\n\u001b[0;31mIndentationError\u001b[0m\u001b[0;31m:\u001b[0m unindent does not match any outer indentation level\n"
          ]
        }
      ]
    },
    {
      "cell_type": "code",
      "source": [
        "#ejercicio3\n",
        "contador_mujeres = 0\n",
        "contador_varones = 0\n",
        "contador_mayoresedad = 0\n",
        "contador_menoresedad = 0\n",
        "\n",
        "for i in range(15):\n",
        "    edad.append = int(input('ingrese la edad de la persona: '))\n",
        "    sexo.append = input('ingrese el sexo de la persona (f-m): ')\n",
        "\n",
        "    if sexo == 'f':\n",
        "        contador_mujeres += 1\n",
        "    elif sexo == 'm':\n",
        "        contador_varones += 1\n",
        "\n",
        "    if edad >= 18:\n",
        "        contador_mayoresedad += 1\n",
        "    else:\n",
        "        contador_menoresedad += 1\n",
        "\n",
        "print('cantidad de mujeres: ', contador_mujeres)\n",
        "print('cantidad de varones: ', contador_varones)\n",
        "print('cantidad de personas mayores de edad: ', contador_mayoresedad)\n",
        "print('cantidad de personas menores de edad: ', contador_menoresedad)"
      ],
      "metadata": {
        "colab": {
          "base_uri": "https://localhost:8080/"
        },
        "id": "GxfV34SlxhoG",
        "outputId": "b1ab8772-379e-425b-9e8c-2393b36ee2a4"
      },
      "execution_count": null,
      "outputs": [
        {
          "name": "stdout",
          "output_type": "stream",
          "text": [
            "ingrese la edad de la persona: 25\n",
            "ingrese el sexo de la persona (f-m): f\n",
            "ingrese la edad de la persona: 5\n",
            "ingrese el sexo de la persona (f-m): f\n",
            "ingrese la edad de la persona: 6\n",
            "ingrese el sexo de la persona (f-m): m\n",
            "ingrese la edad de la persona: 45\n",
            "ingrese el sexo de la persona (f-m): f\n",
            "ingrese la edad de la persona: 63\n",
            "ingrese el sexo de la persona (f-m): m\n",
            "ingrese la edad de la persona: 21\n",
            "ingrese el sexo de la persona (f-m): f\n",
            "ingrese la edad de la persona: 3\n",
            "ingrese el sexo de la persona (f-m): m\n"
          ]
        }
      ]
    },
    {
      "cell_type": "code",
      "source": [
        "#ejercicio4\n",
        "sumapositivos = 0\n",
        "for i in range(10):\n",
        "num.append = float(input('ingrese un numero: '))\n",
        "if num > 0:\n",
        " print('num')\n",
        "sumapositivos += num\n",
        " print('sumatoria de numeros positivos: ', sumapositivos)\n"
      ],
      "metadata": {
        "colab": {
          "base_uri": "https://localhost:8080/",
          "height": 130
        },
        "id": "UkcBLd-GnMUQ",
        "outputId": "47bf384a-458d-4037-dd38-ffb1df427f3c"
      },
      "execution_count": 6,
      "outputs": [
        {
          "output_type": "error",
          "ename": "IndentationError",
          "evalue": "ignored",
          "traceback": [
            "\u001b[0;36m  File \u001b[0;32m\"<ipython-input-6-24d6d89e7ba9>\"\u001b[0;36m, line \u001b[0;32m4\u001b[0m\n\u001b[0;31m    num = float(input('ingrese un numero: '))\u001b[0m\n\u001b[0m    ^\u001b[0m\n\u001b[0;31mIndentationError\u001b[0m\u001b[0;31m:\u001b[0m expected an indented block after 'for' statement on line 3\n"
          ]
        }
      ]
    },
    {
      "cell_type": "code",
      "source": [
        "#ejercicio5\n",
        "for i in range(15):\n",
        "  numero=float(input('ingrese un numero negativo: '))\n",
        "  num_positivo = abs(numero)\n",
        "  print('num_positivo')\n"
      ],
      "metadata": {
        "colab": {
          "base_uri": "https://localhost:8080/"
        },
        "id": "AsdVtCDqo7i4",
        "outputId": "879a0a3a-e893-418a-b4a9-1fdbb8e4c865"
      },
      "execution_count": null,
      "outputs": [
        {
          "output_type": "stream",
          "name": "stdout",
          "text": [
            "ingrese un numero negativo: -2\n",
            "num_positivo\n"
          ]
        }
      ]
    }
  ]
}